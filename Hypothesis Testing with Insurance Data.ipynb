{
 "cells": [
  {
   "cell_type": "code",
   "execution_count": 1,
   "id": "3faf23c2-96e1-4b34-9abd-c74a70c007ab",
   "metadata": {},
   "outputs": [],
   "source": [
    "import pandas as pd\n",
    "from scipy import stats\n",
    "import numpy as np\n",
    "import matplotlib.pyplot as plt\n",
    "import seaborn as sns"
   ]
  },
  {
   "cell_type": "code",
   "execution_count": 2,
   "id": "1c41252d-147e-4faa-8311-9e19ab65ab3d",
   "metadata": {},
   "outputs": [
    {
     "data": {
      "text/html": [
       "<div>\n",
       "<style scoped>\n",
       "    .dataframe tbody tr th:only-of-type {\n",
       "        vertical-align: middle;\n",
       "    }\n",
       "\n",
       "    .dataframe tbody tr th {\n",
       "        vertical-align: top;\n",
       "    }\n",
       "\n",
       "    .dataframe thead th {\n",
       "        text-align: right;\n",
       "    }\n",
       "</style>\n",
       "<table border=\"1\" class=\"dataframe\">\n",
       "  <thead>\n",
       "    <tr style=\"text-align: right;\">\n",
       "      <th></th>\n",
       "      <th>age</th>\n",
       "      <th>sex</th>\n",
       "      <th>bmi</th>\n",
       "      <th>children</th>\n",
       "      <th>smoker</th>\n",
       "      <th>region</th>\n",
       "      <th>charges</th>\n",
       "    </tr>\n",
       "  </thead>\n",
       "  <tbody>\n",
       "    <tr>\n",
       "      <th>0</th>\n",
       "      <td>19</td>\n",
       "      <td>female</td>\n",
       "      <td>27.900</td>\n",
       "      <td>0</td>\n",
       "      <td>yes</td>\n",
       "      <td>southwest</td>\n",
       "      <td>16884.92400</td>\n",
       "    </tr>\n",
       "    <tr>\n",
       "      <th>1</th>\n",
       "      <td>18</td>\n",
       "      <td>male</td>\n",
       "      <td>33.770</td>\n",
       "      <td>1</td>\n",
       "      <td>no</td>\n",
       "      <td>southeast</td>\n",
       "      <td>1725.55230</td>\n",
       "    </tr>\n",
       "    <tr>\n",
       "      <th>2</th>\n",
       "      <td>28</td>\n",
       "      <td>male</td>\n",
       "      <td>33.000</td>\n",
       "      <td>3</td>\n",
       "      <td>no</td>\n",
       "      <td>southeast</td>\n",
       "      <td>4449.46200</td>\n",
       "    </tr>\n",
       "    <tr>\n",
       "      <th>3</th>\n",
       "      <td>33</td>\n",
       "      <td>male</td>\n",
       "      <td>22.705</td>\n",
       "      <td>0</td>\n",
       "      <td>no</td>\n",
       "      <td>northwest</td>\n",
       "      <td>21984.47061</td>\n",
       "    </tr>\n",
       "    <tr>\n",
       "      <th>4</th>\n",
       "      <td>32</td>\n",
       "      <td>male</td>\n",
       "      <td>28.880</td>\n",
       "      <td>0</td>\n",
       "      <td>no</td>\n",
       "      <td>northwest</td>\n",
       "      <td>3866.85520</td>\n",
       "    </tr>\n",
       "  </tbody>\n",
       "</table>\n",
       "</div>"
      ],
      "text/plain": [
       "   age     sex     bmi  children smoker     region      charges\n",
       "0   19  female  27.900         0    yes  southwest  16884.92400\n",
       "1   18    male  33.770         1     no  southeast   1725.55230\n",
       "2   28    male  33.000         3     no  southeast   4449.46200\n",
       "3   33    male  22.705         0     no  northwest  21984.47061\n",
       "4   32    male  28.880         0     no  northwest   3866.85520"
      ]
     },
     "execution_count": 2,
     "metadata": {},
     "output_type": "execute_result"
    }
   ],
   "source": [
    "df = pd.read_csv('https://docs.google.com/spreadsheets/d/e/2PACX-1vQBN8DPW2rdiRrY34eEM53HAzakNGSRrw4ogI-j8HyCUrbqTB_z4CeIn2IvjLF-w_6sOe5pIlypJGAA/pub?output=csv')\n",
    "df.head()"
   ]
  },
  {
   "cell_type": "code",
   "execution_count": 3,
   "id": "d6130c1c-6273-46a1-8210-0bab6a3393c8",
   "metadata": {},
   "outputs": [
    {
     "name": "stdout",
     "output_type": "stream",
     "text": [
      "<class 'pandas.core.frame.DataFrame'>\n",
      "RangeIndex: 1338 entries, 0 to 1337\n",
      "Data columns (total 7 columns):\n",
      " #   Column    Non-Null Count  Dtype  \n",
      "---  ------    --------------  -----  \n",
      " 0   age       1338 non-null   int64  \n",
      " 1   sex       1338 non-null   object \n",
      " 2   bmi       1338 non-null   float64\n",
      " 3   children  1338 non-null   int64  \n",
      " 4   smoker    1338 non-null   object \n",
      " 5   region    1338 non-null   object \n",
      " 6   charges   1338 non-null   float64\n",
      "dtypes: float64(2), int64(2), object(3)\n",
      "memory usage: 73.3+ KB\n"
     ]
    }
   ],
   "source": [
    "df.info()"
   ]
  },
  {
   "cell_type": "markdown",
   "id": "b705ec2e-39b7-4813-be08-009d49beceed",
   "metadata": {},
   "source": [
    "# Do smokers have higher insurance charges than non-smokers?"
   ]
  },
  {
   "cell_type": "markdown",
   "id": "d723c5d3-e00d-4592-89b9-9ce0cc464210",
   "metadata": {},
   "source": [
    "## Defining my Null and Alternative Hypothesis\n",
    "* Null Hypothesis: There is no difference in insurance costs between smokers and non-smokers\n",
    "* Alternative Hypothesis: There is a significant difference in insurance costs between smokers and non-smokers\n",
    "\n",
    "* Significance Level (alpha): 0.05"
   ]
  },
  {
   "cell_type": "markdown",
   "id": "320cd494-ff0d-4706-a179-87b3d64fb49b",
   "metadata": {},
   "source": [
    "## Test\n",
    "I want to test the means of two samples. This means that the data is numeric, so we can run a 2 sample T-test. In order to run a 2 sample T-Test, we need to test the samples for significant outliers, normality, and for equal variance."
   ]
  },
  {
   "cell_type": "markdown",
   "id": "2a357beb-c5a3-4d22-86a6-23d494020355",
   "metadata": {},
   "source": [
    "## Exploring the data and testing assumptions"
   ]
  },
  {
   "cell_type": "code",
   "execution_count": 4,
   "id": "25c011af-0306-4e64-a135-fd3dacc6e133",
   "metadata": {},
   "outputs": [
    {
     "data": {
      "text/plain": [
       "no     1064\n",
       "yes     274\n",
       "Name: smoker, dtype: int64"
      ]
     },
     "execution_count": 4,
     "metadata": {},
     "output_type": "execute_result"
    }
   ],
   "source": [
    "df['smoker'].value_counts()"
   ]
  },
  {
   "cell_type": "code",
   "execution_count": 5,
   "id": "aca6cd36-23cc-4421-a541-8f917f6a4a1b",
   "metadata": {},
   "outputs": [],
   "source": [
    "# Separating the data into smoker and non smoker\n",
    "smokers = df.loc[df['smoker'] == 'yes', 'charges'].copy()\n",
    "non_smokers = df.loc[df['smoker'] == 'no', 'charges'].copy()"
   ]
  },
  {
   "cell_type": "markdown",
   "id": "5bee2813-a7e6-442c-b141-8e1d5a2170a2",
   "metadata": {},
   "source": [
    "### Normality\n",
    "Because we have over 15 samples in each group, we do not need to test for normality"
   ]
  },
  {
   "cell_type": "markdown",
   "id": "afffa757-f9f7-455a-8186-9627ce4071bf",
   "metadata": {},
   "source": [
    "### Outliers\n",
    "Lets remove any outliers for each sample that have a z-score greater than 3"
   ]
  },
  {
   "cell_type": "code",
   "execution_count": 6,
   "id": "77e6e731-ce8d-4059-a7ca-cd9122455724",
   "metadata": {},
   "outputs": [
    {
     "name": "stdout",
     "output_type": "stream",
     "text": [
      "Outliers: 0\n",
      "(274,)\n"
     ]
    }
   ],
   "source": [
    "zscores_s = stats.zscore(smokers)\n",
    "outliers_s = np.abs(zscores_s)>3\n",
    "print(f'Outliers: {np.sum(outliers_s)}')\n",
    "print(smokers.shape)"
   ]
  },
  {
   "cell_type": "markdown",
   "id": "d049e4eb-ce3d-481a-9815-eac1b5489dad",
   "metadata": {},
   "source": [
    "No outliers for smokers"
   ]
  },
  {
   "cell_type": "code",
   "execution_count": 7,
   "id": "90251a4a-ed1a-4ed3-8f88-98cfad83dabb",
   "metadata": {},
   "outputs": [
    {
     "name": "stdout",
     "output_type": "stream",
     "text": [
      "Outliers: 24\n",
      "(1064,)\n"
     ]
    }
   ],
   "source": [
    "zscores_ns = stats.zscore(non_smokers)\n",
    "outliers_ns = np.abs(zscores_ns)>3\n",
    "print(f'Outliers: {np.sum(outliers_ns)}')\n",
    "print(non_smokers.shape)"
   ]
  },
  {
   "cell_type": "markdown",
   "id": "ab0b0bb6-74f6-4c6b-ba74-3dd9f9b3e7f6",
   "metadata": {},
   "source": [
    "24 outliers for non smokers. lets remove them from the sample"
   ]
  },
  {
   "cell_type": "code",
   "execution_count": 8,
   "id": "369b4dd4-a568-4c85-bc68-a9e7d3b42847",
   "metadata": {},
   "outputs": [
    {
     "data": {
      "text/plain": [
       "(1040,)"
      ]
     },
     "execution_count": 8,
     "metadata": {},
     "output_type": "execute_result"
    }
   ],
   "source": [
    "non_smokers = non_smokers.loc[np.abs(stats.zscore(non_smokers))<=3]\n",
    "non_smokers.shape"
   ]
  },
  {
   "cell_type": "markdown",
   "id": "670a4503-f46a-43df-9c15-caf9a36b7c8f",
   "metadata": {},
   "source": [
    "### Variance\n",
    "Now to test for equal variance between the two groups"
   ]
  },
  {
   "cell_type": "code",
   "execution_count": 9,
   "id": "fe1fec4f-addb-4d9b-b52d-f4072324545f",
   "metadata": {},
   "outputs": [
    {
     "data": {
      "text/plain": [
       "LeveneResult(statistic=520.7468821724297, pvalue=2.4247238784347824e-97)"
      ]
     },
     "execution_count": 9,
     "metadata": {},
     "output_type": "execute_result"
    }
   ],
   "source": [
    "var = stats.levene(smokers, non_smokers)\n",
    "var"
   ]
  },
  {
   "cell_type": "markdown",
   "id": "4c3052b3-ae3b-4bc9-94b7-6ddd49167e55",
   "metadata": {},
   "source": [
    "The test results require us to reject the null hypothesis that the variances are equal, so we cannot assume the variance is equal in these two samples. We will have to include equal_var = False when we perform our t-test"
   ]
  },
  {
   "cell_type": "markdown",
   "id": "2eee80eb-0a68-48fe-960d-fad63e13a3db",
   "metadata": {},
   "source": [
    "## T-Test"
   ]
  },
  {
   "cell_type": "code",
   "execution_count": 10,
   "id": "72028f44-a2d5-4cb4-b798-c90366af001d",
   "metadata": {},
   "outputs": [
    {
     "data": {
      "text/plain": [
       "Ttest_indResult(statistic=33.732305987092516, pvalue=2.575322662587431e-104)"
      ]
     },
     "execution_count": 10,
     "metadata": {},
     "output_type": "execute_result"
    }
   ],
   "source": [
    "result = stats.ttest_ind(smokers, non_smokers, equal_var = False)\n",
    "result"
   ]
  },
  {
   "cell_type": "markdown",
   "id": "c0ab6cf8-3c5c-4db3-b2e5-eec9a085b11d",
   "metadata": {},
   "source": [
    "The p-value of the t-test is way below our significance level of 0.05, so we must reject the null hypothesis that there is no difference between insurance costs between smokers and non-smokers"
   ]
  },
  {
   "cell_type": "markdown",
   "id": "69868632-8862-412f-aea9-caef09ce1c12",
   "metadata": {},
   "source": [
    "## Supporting Visualization"
   ]
  },
  {
   "cell_type": "code",
   "execution_count": 11,
   "id": "73392c8e-b495-4673-a451-695ca7a25c1f",
   "metadata": {},
   "outputs": [
    {
     "data": {
      "image/png": "[encoded data removed]",
      "text/plain": [
       "<Figure size 1000x500 with 2 Axes>"
      ]
     },
     "metadata": {},
     "output_type": "display_data"
    }
   ],
   "source": [
    "# Calculating means\n",
    "smokers_mean = np.mean(df.loc[df['smoker'] == 'yes', 'charges'])\n",
    "non_smokers_mean = np.mean(df.loc[df['smoker'] == 'no', 'charges'])\n",
    "\n",
    "# Colors\n",
    "groups_palette={'yes': 'dodgerblue', \n",
    "                \"no\": 'salmon'}\n",
    "\n",
    "# Instancing the plots\n",
    "fig, (ax, ax_bar) = plt.subplots(figsize = (10, 5), \n",
    "                                 ncols = 2, \n",
    "                                 constrained_layout = True,\n",
    "                                 gridspec_kw = {'width_ratios': [0.8, 0.2]})\n",
    "\n",
    "# Histogram\n",
    "ax = sns.histplot(data = df, \n",
    "                  x = 'charges', \n",
    "                  fill = True, \n",
    "                  hue = 'smoker', \n",
    "                  kde = True, \n",
    "                  stat = 'density', \n",
    "                  common_norm = False,\n",
    "                  ax = ax, \n",
    "                  palette = groups_palette)\n",
    "\n",
    "ax.axvline(smokers_mean, \n",
    "           ls = '--',\n",
    "           lw = 2, \n",
    "           label = f\"Smokers (Mean = {smokers_mean: .2f})\",\n",
    "           color = groups_palette['yes'])\n",
    "\n",
    "ax.axvline(non_smokers_mean, \n",
    "           ls = '--', \n",
    "           lw = 2, \n",
    "           label = f\"Nonsmokers (Mean = {non_smokers_mean: .2f})\",\n",
    "           color = groups_palette['no'])\n",
    "\n",
    "ax.legend(prop = {\"size\": 10}, \n",
    "          loc = 'upper right')\n",
    "\n",
    "# Barplot\n",
    "sns.barplot(data = df, \n",
    "            x = 'smoker', \n",
    "            y = 'charges',\n",
    "            ax = ax_bar,\n",
    "            palette = groups_palette)\n",
    "\n",
    "fig.suptitle('Comparison of Charges by Smoking Status',\n",
    "             fontsize = 'xx-large');"
   ]
  },
  {
   "cell_type": "markdown",
   "id": "7a9cad2a-37fd-4c4d-b007-610b589c5bb5",
   "metadata": {},
   "source": [
    "# Are Men more likely to smoke than Women?"
   ]
  },
  {
   "cell_type": "markdown",
   "id": "77b26c00-69a6-46f2-9584-7b0daaa47fef",
   "metadata": {},
   "source": [
    "## Defining my Null and Alternative Hypothesis\n",
    "* Null Hypothesis: There is no difference in the likeliness to smoke between Men and Women\n",
    "* Alternative Hypothesis: There is a significant difference in the likeliness to smoke between Men and Women\n",
    "\n",
    "* Significance Level (alpha): 0.05"
   ]
  },
  {
   "cell_type": "markdown",
   "id": "8139a2fc-a438-42a6-8a6a-d0c0f6306cdc",
   "metadata": {},
   "source": [
    "## Test\n",
    "This is a Categorical Test on two groups, The best test to use will be a Chi Squared Test. The assumptions for a Chi Squared test are two categorical variables, and Independent Outcomes\n",
    "\n",
    "* The outcomes of this test are independent as we can assume that mens likeliness to smoke is not influenced by womens likeliness to smoke and vice versa"
   ]
  },
  {
   "cell_type": "markdown",
   "id": "91be80a1-29e5-4441-a541-db1da19c5576",
   "metadata": {},
   "source": [
    "## Cross Tab\n",
    "First step is to create a cross tab of our data"
   ]
  },
  {
   "cell_type": "code",
   "execution_count": 12,
   "id": "5fe76253-ece8-42ac-b3d5-b51762c5b4d0",
   "metadata": {},
   "outputs": [
    {
     "data": {
      "text/html": [
       "<div>\n",
       "<style scoped>\n",
       "    .dataframe tbody tr th:only-of-type {\n",
       "        vertical-align: middle;\n",
       "    }\n",
       "\n",
       "    .dataframe tbody tr th {\n",
       "        vertical-align: top;\n",
       "    }\n",
       "\n",
       "    .dataframe thead th {\n",
       "        text-align: right;\n",
       "    }\n",
       "</style>\n",
       "<table border=\"1\" class=\"dataframe\">\n",
       "  <thead>\n",
       "    <tr style=\"text-align: right;\">\n",
       "      <th>smoker</th>\n",
       "      <th>no</th>\n",
       "      <th>yes</th>\n",
       "    </tr>\n",
       "    <tr>\n",
       "      <th>sex</th>\n",
       "      <th></th>\n",
       "      <th></th>\n",
       "    </tr>\n",
       "  </thead>\n",
       "  <tbody>\n",
       "    <tr>\n",
       "      <th>female</th>\n",
       "      <td>547</td>\n",
       "      <td>115</td>\n",
       "    </tr>\n",
       "    <tr>\n",
       "      <th>male</th>\n",
       "      <td>517</td>\n",
       "      <td>159</td>\n",
       "    </tr>\n",
       "  </tbody>\n",
       "</table>\n",
       "</div>"
      ],
      "text/plain": [
       "smoker   no  yes\n",
       "sex             \n",
       "female  547  115\n",
       "male    517  159"
      ]
     },
     "execution_count": 12,
     "metadata": {},
     "output_type": "execute_result"
    }
   ],
   "source": [
    "tabs = pd.crosstab(df['sex'], df['smoker'])\n",
    "tabs"
   ]
  },
  {
   "cell_type": "markdown",
   "id": "5824f9c0-0788-499b-a222-6b4aaf8ba997",
   "metadata": {},
   "source": [
    "## Results"
   ]
  },
  {
   "cell_type": "code",
   "execution_count": 13,
   "id": "51d35096-738a-43b5-a9f6-2291487e8f75",
   "metadata": {},
   "outputs": [
    {
     "name": "stdout",
     "output_type": "stream",
     "text": [
      "0.006548143503580696\n"
     ]
    }
   ],
   "source": [
    "result = stats.chi2_contingency(tabs)\n",
    "chi2, p, deg_free, expected_vals = result\n",
    "print(p)"
   ]
  },
  {
   "cell_type": "markdown",
   "id": "15dc98c1-dc02-4556-b6da-662e98313274",
   "metadata": {},
   "source": [
    "Our P-value is below our alpha of 0.05, so we must reject the null hypothesis, meaning we found a significant difference in likelihood of smoking between men and women."
   ]
  },
  {
   "cell_type": "markdown",
   "id": "fda134f7-099d-4d8f-abc8-96c08623e4e0",
   "metadata": {},
   "source": [
    "## Supporting Visual"
   ]
  },
  {
   "cell_type": "code",
   "execution_count": 14,
   "id": "05606bb6-d946-45b0-ab6c-5b76c72b2677",
   "metadata": {},
   "outputs": [
    {
     "data": {
      "image/png": "[encoded data removed]",
      "text/plain": [
       "<Figure size 1000x500 with 1 Axes>"
      ]
     },
     "metadata": {},
     "output_type": "display_data"
    }
   ],
   "source": [
    "fig, ax = plt.subplots(figsize = (10,5))\n",
    "sns.countplot(data = df, ax = ax, x = 'sex', hue = 'smoker')\n",
    "ax.set_title('Smokers between Men and Women');"
   ]
  },
  {
   "cell_type": "markdown",
   "id": "fc45addc-e87b-4b79-8c3d-846475ef111e",
   "metadata": {},
   "source": [
    "# Do different regions have different charges, on average?"
   ]
  },
  {
   "cell_type": "markdown",
   "id": "e6531dc5-dc7d-422f-86b5-e041d7c60bf6",
   "metadata": {},
   "source": [
    "## Defining my Null and Alternative Hypothesis\n",
    "* Null hypothesis: There is no difference between regions on insurance charges\n",
    "* Alternative hypothesis: There is a significant difference between regions on insurance charges\n",
    "* Significance Level (alpha): 0.05"
   ]
  },
  {
   "cell_type": "code",
   "execution_count": 15,
   "id": "e9faf1a4-7a96-4891-8838-b188b06459b3",
   "metadata": {},
   "outputs": [
    {
     "data": {
      "text/plain": [
       "southeast    364\n",
       "southwest    325\n",
       "northwest    325\n",
       "northeast    324\n",
       "Name: region, dtype: int64"
      ]
     },
     "execution_count": 15,
     "metadata": {},
     "output_type": "execute_result"
    }
   ],
   "source": [
    "df['region'].value_counts()"
   ]
  },
  {
   "cell_type": "markdown",
   "id": "915830e7-25d6-42e8-b57d-67797e0b0cc2",
   "metadata": {},
   "source": [
    "## Test\n",
    "We will be testing charges, which is numeric and nominal data. We will test the mean against the 4 different regions found in the dataset. We will run an ANOVA test, and a Tukey test if we find statistical significance. In order to run an ANOVA, we need to prove the following assumptions:\n",
    "* No significant Outliers\n",
    "* Equal Variance\n",
    "* Normality"
   ]
  },
  {
   "cell_type": "markdown",
   "id": "0cdf0203-0bf0-429e-aee4-05bf741e91f0",
   "metadata": {},
   "source": [
    "## Grouping the data into dictionaries\n",
    "Before I begin analyzing the data, I want to put the data into a dictionary"
   ]
  },
  {
   "cell_type": "code",
   "execution_count": 16,
   "id": "9ec9d2f4-4c41-48d8-83af-502170db369b",
   "metadata": {},
   "outputs": [
    {
     "data": {
      "text/plain": [
       "{'southwest': 0       16884.92400\n",
       " 12       1826.84300\n",
       " 15       1837.23700\n",
       " 18      10602.38500\n",
       " 19      36837.46700\n",
       "            ...     \n",
       " 1316     1731.67700\n",
       " 1329    10325.20600\n",
       " 1331    10795.93733\n",
       " 1332    11411.68500\n",
       " 1336     2007.94500\n",
       " Name: charges, Length: 325, dtype: float64,\n",
       " 'southeast': 1        1725.5523\n",
       " 2        4449.4620\n",
       " 5        3756.6216\n",
       " 6        8240.5896\n",
       " 11      27808.7251\n",
       "            ...    \n",
       " 1322    12981.3457\n",
       " 1323    43896.3763\n",
       " 1327     9377.9047\n",
       " 1330    12629.1656\n",
       " 1335     1629.8335\n",
       " Name: charges, Length: 364, dtype: float64,\n",
       " 'northwest': 3       21984.47061\n",
       " 4        3866.85520\n",
       " 7        7281.50560\n",
       " 9       28923.13692\n",
       " 24       6203.90175\n",
       "            ...     \n",
       " 1319     7201.70085\n",
       " 1320     5425.02335\n",
       " 1324     4239.89265\n",
       " 1333    10600.54830\n",
       " 1337    29141.36030\n",
       " Name: charges, Length: 325, dtype: float64,\n",
       " 'northeast': 8        6406.41070\n",
       " 10       2721.32080\n",
       " 16      10797.33620\n",
       " 17       2395.17155\n",
       " 20      13228.84695\n",
       "            ...     \n",
       " 1321    28101.33305\n",
       " 1325    13143.33665\n",
       " 1326     7050.02130\n",
       " 1328    22395.74424\n",
       " 1334     2205.98080\n",
       " Name: charges, Length: 324, dtype: float64}"
      ]
     },
     "execution_count": 16,
     "metadata": {},
     "output_type": "execute_result"
    }
   ],
   "source": [
    "groups = {}\n",
    "\n",
    "# Looping through the groups in the dataframe\n",
    "for i in df['region'].unique():\n",
    "    # Creating a copy of the column for each region\n",
    "    data = df.loc[df['region'] == i, 'charges'].copy()\n",
    "    \n",
    "    # Saving into the dictionary on the correct key\n",
    "    groups[i] = data\n",
    "    \n",
    "groups"
   ]
  },
  {
   "cell_type": "markdown",
   "id": "44c2cd8c-01cc-43f8-9d57-6fb9a454bd47",
   "metadata": {},
   "source": [
    "### Normality\n",
    "Because our samples are each above n = 15, we do not need to test for normality"
   ]
  },
  {
   "cell_type": "markdown",
   "id": "88d0af5a-97b4-4117-bb78-c0739b245389",
   "metadata": {},
   "source": [
    "### Outliers\n",
    "Lets check each group for outliers and remove them"
   ]
  },
  {
   "cell_type": "code",
   "execution_count": 17,
   "id": "1efdc1e3-6a78-480c-8ad2-339adf0fbf88",
   "metadata": {},
   "outputs": [
    {
     "name": "stdout",
     "output_type": "stream",
     "text": [
      "Outliers in southwest: 8\n",
      "Original Length: 325\n",
      "Outliers in southeast: 2\n",
      "Original Length: 364\n",
      "Outliers in northwest: 7\n",
      "Original Length: 325\n",
      "Outliers in northeast: 4\n",
      "Original Length: 324\n"
     ]
    }
   ],
   "source": [
    "for i, charges in groups.items():\n",
    "    zscores = stats.zscore(charges)\n",
    "    outliers = np.abs(zscores) > 3\n",
    "    print(f'Outliers in {i}: {np.sum(outliers)}')\n",
    "    print(f'Original Length: {len(charges)}')"
   ]
  },
  {
   "cell_type": "markdown",
   "id": "202c5c03-ce22-476e-a6d7-d61900b49d1f",
   "metadata": {},
   "source": [
    "We show that there are significant outliers in each group. Lets remove them from the dictionary and proceed with our next test"
   ]
  },
  {
   "cell_type": "code",
   "execution_count": 18,
   "id": "ee4efbff-13e8-4b61-9666-b9c9a3335e30",
   "metadata": {},
   "outputs": [
    {
     "name": "stdout",
     "output_type": "stream",
     "text": [
      "Final Length of southwest: 317\n",
      "Final Length of southeast: 362\n",
      "Final Length of northwest: 318\n",
      "Final Length of northeast: 320\n"
     ]
    }
   ],
   "source": [
    "for i, charges in groups.items():\n",
    "    groups[i] = charges[np.abs(stats.zscore(charges)) <= 3]\n",
    "    print(f'Final Length of {i}: {len(groups[i])}')"
   ]
  },
  {
   "cell_type": "markdown",
   "id": "e2ef1356-54c1-432f-858f-81c4810a1925",
   "metadata": {},
   "source": [
    "### Variance"
   ]
  },
  {
   "cell_type": "code",
   "execution_count": 19,
   "id": "da5e55e1-40ff-4aa1-b1a8-ffc1da805a4b",
   "metadata": {},
   "outputs": [
    {
     "data": {
      "text/plain": [
       "LeveneResult(statistic=9.518349004554441, pvalue=3.2035503711783993e-06)"
      ]
     },
     "execution_count": 19,
     "metadata": {},
     "output_type": "execute_result"
    }
   ],
   "source": [
    "var = stats.levene(*groups.values())\n",
    "var"
   ]
  },
  {
   "cell_type": "markdown",
   "id": "96b715d4-e246-485b-9fc5-c5f0ab437d35",
   "metadata": {},
   "source": [
    "the variance test is below 0.05, meaning we must reject the null hypothesis, and we have found statistical significance between the variance of our groups. We must change tests and use Kruskal Wallis"
   ]
  },
  {
   "cell_type": "markdown",
   "id": "91587f15-1870-4c44-8a80-053bd7981b77",
   "metadata": {},
   "source": [
    "## Changing tests to Kruskal Wallis"
   ]
  },
  {
   "cell_type": "code",
   "execution_count": 20,
   "id": "9de1c859-defc-4bfc-a299-0422d285bd2a",
   "metadata": {},
   "outputs": [
    {
     "data": {
      "text/plain": [
       "KruskalResult(statistic=6.914045702545643, pvalue=0.07468847911322242)"
      ]
     },
     "execution_count": 20,
     "metadata": {},
     "output_type": "execute_result"
    }
   ],
   "source": [
    "result = stats.kruskal(*groups.values())\n",
    "result"
   ]
  },
  {
   "cell_type": "markdown",
   "id": "bc6aaac0-e945-4ad1-9b39-8acb98dc8af1",
   "metadata": {},
   "source": [
    "The Kruskal Wallis test returned a p-value greater than our significance level, meaning we must accept the null hypothesis that there is no significant difference in charges between regions"
   ]
  },
  {
   "cell_type": "markdown",
   "id": "74ac6ac4-88b6-449d-8121-b1db0a7121b0",
   "metadata": {},
   "source": [
    "## Supporting Visual"
   ]
  },
  {
   "cell_type": "code",
   "execution_count": 25,
   "id": "b8f41edb-7f3c-42d2-a4bd-106cbe969073",
   "metadata": {},
   "outputs": [
    {
     "data": {
      "image/png": "[encoded data removed]",
      "text/plain": [
       "<Figure size 1000x600 with 1 Axes>"
      ]
     },
     "metadata": {},
     "output_type": "display_data"
    }
   ],
   "source": [
    "fig, ax = plt.subplots(figsize = (10,6))\n",
    "sns.barplot(data = df, x = 'region', y = 'charges', ax = ax)\n",
    "ax.set_title('Charges by Region');"
   ]
  }
 ],
 "metadata": {
  "kernelspec": {
   "display_name": "Python (dojo-env)",
   "language": "python",
   "name": "dojo-env"
  },
  "language_info": {
   "codemirror_mode": {
    "name": "ipython",
    "version": 3
   },
   "file_extension": ".py",
   "mimetype": "text/x-python",
   "name": "python",
   "nbconvert_exporter": "python",
   "pygments_lexer": "ipython3",
   "version": "3.9.15"
  },
  "toc-autonumbering": true
 },
 "nbformat": 4,
 "nbformat_minor": 5
}
